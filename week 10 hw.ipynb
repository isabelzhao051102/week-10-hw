{
 "cells": [
  {
   "cell_type": "markdown",
   "id": "e8748447",
   "metadata": {},
   "source": [
    "#4\n",
    "R-squared shows how well the chosen predictors can help understand the outcome. If R-squared is low, then it means that there are other missing factors that are affecting the outcome. P-values shows if individual predictors are significant. A low p-value explains that that one predictor is important to the outcome. R-square and p-values explain different things. One predictor can be significant to the results, but doesn't need to explain everything about it.  "
   ]
  },
  {
   "cell_type": "markdown",
   "id": "668574c5",
   "metadata": {},
   "source": [
    "#7\n",
    "Model 3 is a basic model with two predictors which can see the outcome, which is health points, without other complexity. Model 4 expands by adding more predictors, allowing a higher complexity but there are risks of overfitting due to large number of interaction terms. Model 5 simplifies by reducing interaction terms, aiming for a balance in the predictors without overfitting. Model 6 narrows further into specific predictors based on statistical significance in Model 5. Model 7 includes centering and scaling to reduce multicollinearity to avoid extensive interation that might disproportionately influence the model. "
   ]
  },
  {
   "cell_type": "markdown",
   "id": "ec800034",
   "metadata": {},
   "source": [
    "#9\n",
    "The code shows how different models, in this case: model 6 and model 7, perform when predicting data with a different dataset that was originally trained on. This illustration focuses on generalizability. Model 7 showed better performance initially, but model 6 generalizes better overall. This is due to overfitting, and since model 6 is simpler, it avoids the traps of complex interactions that are hard to interpret and justify. This illustration advocates simplicity when possible. "
   ]
  },
  {
   "cell_type": "markdown",
   "id": "4113c8d2",
   "metadata": {},
   "source": [
    "Here is a summary from ChatGPT and the link: \n",
    "\n",
    "https://chatgpt.com/c/6736a288-8bc8-8007-b59c-ea68b0e943af\n",
    "The comparison of `model6_fit` and `model7_fit` illustrates the trade-off between model complexity and generalizability. While `model7_fit` initially showed better predictive performance, its complex structure—laden with high-order interactions—raises concerns about overfitting, capturing idiosyncratic patterns in the training data that may not generalize to new data. `model6_fit`, being simpler and with more statistically significant coefficients, is more interpretable and demonstrates more consistent generalizability, especially when using older Pokémon generations to predict future ones. This example underscores the importance of preferring simpler, parsimonious models when their predictive performance is comparable, as they are often more robust and interpretable for real-world applications."
   ]
  }
 ],
 "metadata": {
  "kernelspec": {
   "display_name": "Python 3 (ipykernel)",
   "language": "python",
   "name": "python3"
  },
  "language_info": {
   "codemirror_mode": {
    "name": "ipython",
    "version": 3
   },
   "file_extension": ".py",
   "mimetype": "text/x-python",
   "name": "python",
   "nbconvert_exporter": "python",
   "pygments_lexer": "ipython3",
   "version": "3.11.6"
  }
 },
 "nbformat": 4,
 "nbformat_minor": 5
}
